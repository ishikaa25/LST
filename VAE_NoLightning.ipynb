{
  "nbformat": 4,
  "nbformat_minor": 0,
  "metadata": {
    "colab": {
      "name": "VAE_NoLightning.ipynb",
      "provenance": [],
      "collapsed_sections": [],
      "authorship_tag": "ABX9TyPiflRhdhe5yTSHS62F4jnw",
      "include_colab_link": true
    },
    "kernelspec": {
      "name": "python3",
      "display_name": "Python 3"
    },
    "language_info": {
      "name": "python"
    },
    "widgets": {
      "application/vnd.jupyter.widget-state+json": {
        "f2d5e104ac7e4381933c5c74b37af431": {
          "model_module": "@jupyter-widgets/controls",
          "model_name": "HBoxModel",
          "state": {
            "_view_name": "HBoxView",
            "_dom_classes": [],
            "_model_name": "HBoxModel",
            "_view_module": "@jupyter-widgets/controls",
            "_model_module_version": "1.5.0",
            "_view_count": null,
            "_view_module_version": "1.5.0",
            "box_style": "",
            "layout": "IPY_MODEL_0c5172eac6df4ea4b6093f3ca22dda3a",
            "_model_module": "@jupyter-widgets/controls",
            "children": [
              "IPY_MODEL_9c2c711685e84cc6a9e6ec278a9c1d39",
              "IPY_MODEL_86b9be16cbd147788d398e348bc3e1e9"
            ]
          }
        },
        "0c5172eac6df4ea4b6093f3ca22dda3a": {
          "model_module": "@jupyter-widgets/base",
          "model_name": "LayoutModel",
          "state": {
            "_view_name": "LayoutView",
            "grid_template_rows": null,
            "right": null,
            "justify_content": null,
            "_view_module": "@jupyter-widgets/base",
            "overflow": null,
            "_model_module_version": "1.2.0",
            "_view_count": null,
            "flex_flow": null,
            "width": null,
            "min_width": null,
            "border": null,
            "align_items": null,
            "bottom": null,
            "_model_module": "@jupyter-widgets/base",
            "top": null,
            "grid_column": null,
            "overflow_y": null,
            "overflow_x": null,
            "grid_auto_flow": null,
            "grid_area": null,
            "grid_template_columns": null,
            "flex": null,
            "_model_name": "LayoutModel",
            "justify_items": null,
            "grid_row": null,
            "max_height": null,
            "align_content": null,
            "visibility": null,
            "align_self": null,
            "height": null,
            "min_height": null,
            "padding": null,
            "grid_auto_rows": null,
            "grid_gap": null,
            "max_width": null,
            "order": null,
            "_view_module_version": "1.2.0",
            "grid_template_areas": null,
            "object_position": null,
            "object_fit": null,
            "grid_auto_columns": null,
            "margin": null,
            "display": null,
            "left": null
          }
        },
        "9c2c711685e84cc6a9e6ec278a9c1d39": {
          "model_module": "@jupyter-widgets/controls",
          "model_name": "FloatProgressModel",
          "state": {
            "_view_name": "ProgressView",
            "style": "IPY_MODEL_3e22453603a24f0e8ac7d0077690b482",
            "_dom_classes": [],
            "description": "",
            "_model_name": "FloatProgressModel",
            "bar_style": "success",
            "max": 170498071,
            "_view_module": "@jupyter-widgets/controls",
            "_model_module_version": "1.5.0",
            "value": 170498071,
            "_view_count": null,
            "_view_module_version": "1.5.0",
            "orientation": "horizontal",
            "min": 0,
            "description_tooltip": null,
            "_model_module": "@jupyter-widgets/controls",
            "layout": "IPY_MODEL_45964fda16294e58bb488c7ce16bed66"
          }
        },
        "86b9be16cbd147788d398e348bc3e1e9": {
          "model_module": "@jupyter-widgets/controls",
          "model_name": "HTMLModel",
          "state": {
            "_view_name": "HTMLView",
            "style": "IPY_MODEL_30d6e1b7bca446b5be4afb3e221bc3a5",
            "_dom_classes": [],
            "description": "",
            "_model_name": "HTMLModel",
            "placeholder": "​",
            "_view_module": "@jupyter-widgets/controls",
            "_model_module_version": "1.5.0",
            "value": " 170499072/? [07:32&lt;00:00, 376615.56it/s]",
            "_view_count": null,
            "_view_module_version": "1.5.0",
            "description_tooltip": null,
            "_model_module": "@jupyter-widgets/controls",
            "layout": "IPY_MODEL_d7ef1b987d9f4bfbbbe66afd82beb88c"
          }
        },
        "3e22453603a24f0e8ac7d0077690b482": {
          "model_module": "@jupyter-widgets/controls",
          "model_name": "ProgressStyleModel",
          "state": {
            "_view_name": "StyleView",
            "_model_name": "ProgressStyleModel",
            "description_width": "initial",
            "_view_module": "@jupyter-widgets/base",
            "_model_module_version": "1.5.0",
            "_view_count": null,
            "_view_module_version": "1.2.0",
            "bar_color": null,
            "_model_module": "@jupyter-widgets/controls"
          }
        },
        "45964fda16294e58bb488c7ce16bed66": {
          "model_module": "@jupyter-widgets/base",
          "model_name": "LayoutModel",
          "state": {
            "_view_name": "LayoutView",
            "grid_template_rows": null,
            "right": null,
            "justify_content": null,
            "_view_module": "@jupyter-widgets/base",
            "overflow": null,
            "_model_module_version": "1.2.0",
            "_view_count": null,
            "flex_flow": null,
            "width": null,
            "min_width": null,
            "border": null,
            "align_items": null,
            "bottom": null,
            "_model_module": "@jupyter-widgets/base",
            "top": null,
            "grid_column": null,
            "overflow_y": null,
            "overflow_x": null,
            "grid_auto_flow": null,
            "grid_area": null,
            "grid_template_columns": null,
            "flex": null,
            "_model_name": "LayoutModel",
            "justify_items": null,
            "grid_row": null,
            "max_height": null,
            "align_content": null,
            "visibility": null,
            "align_self": null,
            "height": null,
            "min_height": null,
            "padding": null,
            "grid_auto_rows": null,
            "grid_gap": null,
            "max_width": null,
            "order": null,
            "_view_module_version": "1.2.0",
            "grid_template_areas": null,
            "object_position": null,
            "object_fit": null,
            "grid_auto_columns": null,
            "margin": null,
            "display": null,
            "left": null
          }
        },
        "30d6e1b7bca446b5be4afb3e221bc3a5": {
          "model_module": "@jupyter-widgets/controls",
          "model_name": "DescriptionStyleModel",
          "state": {
            "_view_name": "StyleView",
            "_model_name": "DescriptionStyleModel",
            "description_width": "",
            "_view_module": "@jupyter-widgets/base",
            "_model_module_version": "1.5.0",
            "_view_count": null,
            "_view_module_version": "1.2.0",
            "_model_module": "@jupyter-widgets/controls"
          }
        },
        "d7ef1b987d9f4bfbbbe66afd82beb88c": {
          "model_module": "@jupyter-widgets/base",
          "model_name": "LayoutModel",
          "state": {
            "_view_name": "LayoutView",
            "grid_template_rows": null,
            "right": null,
            "justify_content": null,
            "_view_module": "@jupyter-widgets/base",
            "overflow": null,
            "_model_module_version": "1.2.0",
            "_view_count": null,
            "flex_flow": null,
            "width": null,
            "min_width": null,
            "border": null,
            "align_items": null,
            "bottom": null,
            "_model_module": "@jupyter-widgets/base",
            "top": null,
            "grid_column": null,
            "overflow_y": null,
            "overflow_x": null,
            "grid_auto_flow": null,
            "grid_area": null,
            "grid_template_columns": null,
            "flex": null,
            "_model_name": "LayoutModel",
            "justify_items": null,
            "grid_row": null,
            "max_height": null,
            "align_content": null,
            "visibility": null,
            "align_self": null,
            "height": null,
            "min_height": null,
            "padding": null,
            "grid_auto_rows": null,
            "grid_gap": null,
            "max_width": null,
            "order": null,
            "_view_module_version": "1.2.0",
            "grid_template_areas": null,
            "object_position": null,
            "object_fit": null,
            "grid_auto_columns": null,
            "margin": null,
            "display": null,
            "left": null
          }
        }
      }
    }
  },
  "cells": [
    {
      "cell_type": "markdown",
      "metadata": {
        "id": "view-in-github",
        "colab_type": "text"
      },
      "source": [
        "<a href=\"https://colab.research.google.com/github/ishikaa25/LST/blob/master/VAE_NoLightning.ipynb\" target=\"_parent\"><img src=\"https://colab.research.google.com/assets/colab-badge.svg\" alt=\"Open In Colab\"/></a>"
      ]
    },
    {
      "cell_type": "markdown",
      "metadata": {
        "id": "L49aY97XFSq-"
      },
      "source": [
        "This code file trains an encoder that takes image and makes its latent space embeddings. \n",
        "\n",
        "```\n",
        "Network: Encoder >> Latent Space >> Decoder\n",
        "```\n",
        "This network/flow is used to train the VAE's Encoder.\n",
        "\n"
      ]
    },
    {
      "cell_type": "code",
      "metadata": {
        "id": "vrn5woGPHQ2A"
      },
      "source": [
        "import torch\n",
        "import torchvision\n",
        "from torchvision import datasets, transforms\n",
        "import torch.nn as nn\n",
        "import torch.nn.functional as F\n",
        "import matplotlib.pyplot as plt\n",
        "import numpy as np"
      ],
      "execution_count": null,
      "outputs": []
    },
    {
      "cell_type": "markdown",
      "metadata": {
        "id": "N4LKnd62XLk-"
      },
      "source": [
        "# Data Preprocess (CIFAR10)"
      ]
    },
    {
      "cell_type": "code",
      "metadata": {
        "id": "tJFdsUpULeJY",
        "colab": {
          "base_uri": "https://localhost:8080/",
          "height": 102,
          "referenced_widgets": [
            "f2d5e104ac7e4381933c5c74b37af431",
            "0c5172eac6df4ea4b6093f3ca22dda3a",
            "9c2c711685e84cc6a9e6ec278a9c1d39",
            "86b9be16cbd147788d398e348bc3e1e9",
            "3e22453603a24f0e8ac7d0077690b482",
            "45964fda16294e58bb488c7ce16bed66",
            "30d6e1b7bca446b5be4afb3e221bc3a5",
            "d7ef1b987d9f4bfbbbe66afd82beb88c"
          ]
        },
        "outputId": "56b68663-99d0-4594-92f2-64788267e18c"
      },
      "source": [
        "transform = transforms.Compose([transforms.ToTensor(),\n",
        "                              transforms.Normalize((0.5,0.5,0.5), (0.5,0.5,0.5)),\n",
        "                              ])\n",
        "trainset = datasets.CIFAR10('PATH_TO_STORE_TRAINSET', train=True, transform=transform,download=True)"
      ],
      "execution_count": null,
      "outputs": [
        {
          "output_type": "stream",
          "text": [
            "Downloading https://www.cs.toronto.edu/~kriz/cifar-10-python.tar.gz to PATH_TO_STORE_TRAINSET/cifar-10-python.tar.gz\n"
          ],
          "name": "stdout"
        },
        {
          "output_type": "display_data",
          "data": {
            "application/vnd.jupyter.widget-view+json": {
              "model_id": "f2d5e104ac7e4381933c5c74b37af431",
              "version_minor": 0,
              "version_major": 2
            },
            "text/plain": [
              "HBox(children=(FloatProgress(value=0.0, max=170498071.0), HTML(value='')))"
            ]
          },
          "metadata": {
            "tags": []
          }
        },
        {
          "output_type": "stream",
          "text": [
            "\n",
            "Extracting PATH_TO_STORE_TRAINSET/cifar-10-python.tar.gz to PATH_TO_STORE_TRAINSET\n"
          ],
          "name": "stdout"
        }
      ]
    },
    {
      "cell_type": "markdown",
      "metadata": {
        "id": "v-vnGz4iXqmM"
      },
      "source": [
        "# VAE part"
      ]
    },
    {
      "cell_type": "code",
      "metadata": {
        "id": "saJdZIdQ_j-d"
      },
      "source": [
        "# from pl_bolts.datamodules import TinyCIFAR10DataModule\n",
        "# datamodule = TinyCIFAR10DataModule()"
      ],
      "execution_count": null,
      "outputs": []
    },
    {
      "cell_type": "code",
      "metadata": {
        "id": "k1qt4Y1gPskq"
      },
      "source": [
        "# # sub = list(range(0, int(len(trainset)/100)))\n",
        "# # trainset_sub = torch.utils.data.Subset(trainset, sub)\n",
        "\n",
        "# trainloader = torch.utils.data.DataLoader(trainset, batch_size=128,\n",
        "#                                             shuffle=True, num_workers=2)\n",
        "\n",
        "# print(len(trainset))"
      ],
      "execution_count": null,
      "outputs": []
    },
    {
      "cell_type": "code",
      "metadata": {
        "id": "_Nh7-DmUPu3y"
      },
      "source": [
        "# pl.seed_everything(1)\n",
        "\n",
        "# vae = VAE()\n",
        "# trainer = pl.Trainer(gpus=1,max_epochs=30, progress_bar_refresh_rate=10)\n",
        "# trainer.fit(vae, trainloader)"
      ],
      "execution_count": null,
      "outputs": []
    },
    {
      "cell_type": "code",
      "metadata": {
        "id": "idjINxSGm3hw"
      },
      "source": [
        "# x = torch.rand(1, 3, 32, 32)\n",
        "# x_encoded = vae.encoder(x)\n",
        "# mu, log_var = vae.fc_mu(x_encoded), vae.fc_var(x_encoded)\n",
        "# std = torch.exp(log_var / 2)"
      ],
      "execution_count": null,
      "outputs": []
    },
    {
      "cell_type": "code",
      "metadata": {
        "id": "iaoBxKK0SNFh"
      },
      "source": [
        "# from matplotlib.pyplot import imshow, figure\n",
        "# import numpy as np\n",
        "# from torchvision.utils import make_grid\n",
        "# from pl_bolts.transforms.dataset_normalizations import cifar10_normalization\n",
        "# figure(figsize=(8, 3), dpi=300)\n",
        "\n",
        "# # Z COMES FROM NORMAL(0, 1)\n",
        "# num_preds = 16\n",
        "# p = torch.distributions.Normal(torch.zeros_like(mu), torch.ones_like(std))\n",
        "# z = p.rsample((num_preds,))\n",
        "\n",
        "# # SAMPLE IMAGES\n",
        "# with torch.no_grad():\n",
        "#     pred = vae.decoder(z.to(vae.device)).cpu()\n",
        "\n",
        "# # Undo normalization\n",
        "# # # normalize = cifar10_normalization()\n",
        "# # # mean, std = np.array(normalize.mean), np.array(normalize.std)\n",
        "# # #img = make_grid(pred).permute(1, 2, 0).numpy()* std + mean\n",
        "# unnorm = UnNormalize((0.5,), (0.5,))\n",
        "# img  = make_grid(unnorm(pred)).permute(1,2,0).numpy()\n",
        "\n",
        "# # PLOT IMAGES\n",
        "# imshow(img);"
      ],
      "execution_count": null,
      "outputs": []
    },
    {
      "cell_type": "code",
      "metadata": {
        "id": "AImOW7yEju27"
      },
      "source": [
        "# class UnNormalize(object):\n",
        "#     def __init__(self, mean, std):\n",
        "#         self.mean = mean\n",
        "#         self.std = std\n",
        "\n",
        "#     def __call__(self, tensor):\n",
        "#         \"\"\"\n",
        "#         Args:\n",
        "#             tensor (Tensor): Tensor image of size (C, H, W) to be normalized.\n",
        "#         Returns:\n",
        "#             Tensor: Normalized image.\n",
        "#         \"\"\"\n",
        "#         for t, m, s in zip(tensor, self.mean, self.std):\n",
        "#             t.mul_(s).add_(m)\n",
        "#             # The normalize code -> t.sub_(m).div_(s)\n",
        "#         return tensor"
      ],
      "execution_count": null,
      "outputs": []
    },
    {
      "cell_type": "code",
      "metadata": {
        "id": "2GuVkU39N_Gm"
      },
      "source": [
        "class EncoderBlock(nn.Module):\n",
        "\n",
        "  expansion = 1\n",
        "  def __init__(self,inplanes, planes, stride=1, downsample=None):\n",
        "    super().__init__()\n",
        "\n",
        "    self.conv1 = nn.Conv2d(inplanes,planes,kernel_size=3,stride=stride,padding=1,bias=False)\n",
        "    self.bn1 = nn.BatchNorm2d(planes)\n",
        "    self.relu = nn.ReLU(inplace=True)\n",
        "    self.conv2 = nn.Conv2d(planes,planes,kernel_size=3,stride=1,padding=1,bias=False)\n",
        "    self.bn2 = nn.BatchNorm2d(planes)\n",
        "    self.downsample = downsample\n",
        "\n",
        "  def forward(self, x):\n",
        "    identity = x\n",
        "\n",
        "    out = self.conv1(x)\n",
        "    out = self.bn1(out)\n",
        "    out = self.relu(out)\n",
        "\n",
        "    out = self.conv2(out)\n",
        "    out = self.bn2(out)\n",
        "\n",
        "    if self.downsample is not None:\n",
        "        identity = self.downsample(x)\n",
        "\n",
        "    out += identity\n",
        "    out = self.relu(out)\n",
        "\n",
        "    return out"
      ],
      "execution_count": null,
      "outputs": []
    },
    {
      "cell_type": "code",
      "metadata": {
        "id": "dwKhozB5Qswv"
      },
      "source": [
        "class ResNetEncoder(nn.Module):\n",
        "\n",
        "  def __init__(self,block,layers,first_conv=False,maxpool1=False):\n",
        "    super().__init__()\n",
        "\n",
        "    self.inplanes = 64\n",
        "\n",
        "    if first_conv:\n",
        "      self.conv1 = nn.Conv2d(3, self.inplanes, kernel_size=7, stride=2, padding=3, bias=False)\n",
        "    else:\n",
        "      self.conv1 = nn.Conv2d(3, self.inplanes, kernel_size=3, stride=1, padding=1, bias=False)\n",
        "\n",
        "    self.bn1 = nn.BatchNorm2d(self.inplanes)\n",
        "    self.relu = nn.ReLU(inplace=True)\n",
        "\n",
        "    if maxpool1:\n",
        "      self.maxpool = nn.MaxPool2d(kernel_size=3, stride=2, padding=1)\n",
        "    else:\n",
        "      self.maxpool = nn.MaxPool2d(kernel_size=1, stride=1)\n",
        "                                  \n",
        "    self.layer1 = self._make_layer(block,64,layers[0])\n",
        "    self.layer2 = self._make_layer(block, 128, layers[1], stride=2)\n",
        "    self.layer3 = self._make_layer(block, 256, layers[2], stride=2)\n",
        "    self.layer4 = self._make_layer(block, 512, layers[3], stride=2)\n",
        "    self.avgpool = nn.AdaptiveAvgPool2d((1, 1))\n",
        "\n",
        "\n",
        "  def _make_layer(self, block, planes, blocks, stride=1):\n",
        "\n",
        "    downsample = None\n",
        "\n",
        "    if stride != 1 or self.inplanes != planes * block.expansion:\n",
        "        downsample = nn.Sequential(\n",
        "            nn.Conv2d(self.inplanes, planes*block.expansion, kernel_size=1, stride=stride, bias=False),\n",
        "            nn.BatchNorm2d(planes * block.expansion)\n",
        "        )\n",
        "\n",
        "    layers = []\n",
        "    layers.append(block(self.inplanes, planes, stride, downsample))\n",
        "    self.inplanes = planes * block.expansion\n",
        "    for _ in range(1, blocks):\n",
        "        layers.append(block(self.inplanes, planes))\n",
        "\n",
        "    return nn.Sequential(*layers)\n",
        "    \n",
        "\n",
        "  def forward(self,x):\n",
        "\n",
        "    x = self.conv1(x)\n",
        "    x = self.bn1(x)\n",
        "    x = self.relu(x)\n",
        "    x = self.maxpool(x)\n",
        "\n",
        "    x = self.layer1(x)\n",
        "    x = self.layer2(x)\n",
        "    x = self.layer3(x)\n",
        "    x = self.layer4(x)\n",
        "\n",
        "    x = self.avgpool(x)\n",
        "    x = torch.flatten(x, 1)\n",
        "\n",
        "    return x\n"
      ],
      "execution_count": null,
      "outputs": []
    },
    {
      "cell_type": "code",
      "metadata": {
        "id": "-eBRvP4OYpx7"
      },
      "source": [
        "# a = resnet18_encoder(False,False)\n",
        "def resnet18_encoder(first_conv, maxpool1):\n",
        "    return ResNetEncoder(EncoderBlock, [2, 2, 2, 2], first_conv, maxpool1)"
      ],
      "execution_count": null,
      "outputs": []
    },
    {
      "cell_type": "markdown",
      "metadata": {
        "id": "OhZAOzTIpNjV"
      },
      "source": [
        "Decoder"
      ]
    },
    {
      "cell_type": "code",
      "metadata": {
        "id": "zBKl53IKkO1c"
      },
      "source": [
        "class Interpolate(nn.Module):\n",
        "  def __init__(self,size=None,scale=None):\n",
        "    super().__init__()\n",
        "    self.size, self.scale = size, scale\n",
        "\n",
        "  def forward(self,x):\n",
        "    return F.interpolate(x,self.size,self.scale)\n",
        "\n",
        "\n",
        "def resize_conv(in_planes,out_planes,scale=1,k=3):\n",
        "  if k==3:\n",
        "    if scale==1:\n",
        "      return nn.Conv2d(in_planes,out_planes,kernel_size=3,padding=1,bias=False)\n",
        "    else:\n",
        "      return nn.Sequential(Interpolate(scale=scale), nn.Conv2d(in_planes,out_planes,kernel_size=3,padding=1,bias=False))\n",
        "\n",
        "  else:\n",
        "    if scale==1:\n",
        "      return nn.Conv2d(in_planes,out_planes,kernel_size=1,bias=False)\n",
        "    else:\n",
        "      return nn.Sequential(Interpolate(scale=scale), nn.Conv2d(in_planes,out_planes,kernel_size=1,bias=False))\n"
      ],
      "execution_count": null,
      "outputs": []
    },
    {
      "cell_type": "code",
      "metadata": {
        "id": "0L5_0VawqHjv"
      },
      "source": [
        "#Test \n",
        "#x = np.random.rand(1,3,2,2)\n",
        "# g = F.interpolate(torch.from_numpy(x),[3,3])"
      ],
      "execution_count": null,
      "outputs": []
    },
    {
      "cell_type": "code",
      "metadata": {
        "id": "5K2qrrEsrjkJ"
      },
      "source": [
        "class DecoderBlock(nn.Module):\n",
        "\n",
        "\n",
        "    expansion = 1\n",
        "\n",
        "    def __init__(self, inplanes, planes, scale=1, upsample=None):\n",
        "        super().__init__()\n",
        "        self.conv1 = resize_conv(inplanes, inplanes,k=3)\n",
        "        self.bn1 = nn.BatchNorm2d(inplanes)\n",
        "        self.relu = nn.ReLU(inplace=True)\n",
        "        self.conv2 = resize_conv(inplanes, planes, scale,k=3)\n",
        "        self.bn2 = nn.BatchNorm2d(planes)\n",
        "        self.upsample = upsample\n",
        "\n",
        "    def forward(self, x):\n",
        "        identity = x\n",
        "\n",
        "        out = self.conv1(x)\n",
        "        out = self.bn1(out)\n",
        "        out = self.relu(out)\n",
        "\n",
        "        out = self.conv2(out)\n",
        "        out = self.bn2(out)\n",
        "\n",
        "        if self.upsample is not None:\n",
        "            identity = self.upsample(x)\n",
        "\n",
        "        out += identity\n",
        "        out = self.relu(out)\n",
        "\n",
        "        return out\n"
      ],
      "execution_count": null,
      "outputs": []
    },
    {
      "cell_type": "code",
      "metadata": {
        "id": "pchr0xTTt5_p"
      },
      "source": [
        "class ResNetDecoder(nn.Module):\n",
        "    \"\"\"\n",
        "    Resnet in reverse order\n",
        "    \"\"\"\n",
        "\n",
        "    def __init__(self, block, layers, latent_dim, input_height, first_conv=False, maxpool1=False):\n",
        "        super().__init__()\n",
        "\n",
        "        self.expansion = block.expansion\n",
        "        self.inplanes = 512 * block.expansion\n",
        "        self.first_conv = first_conv\n",
        "        self.maxpool1 = maxpool1\n",
        "        self.input_height = input_height\n",
        "\n",
        "        self.upscale_factor = 8\n",
        "\n",
        "        self.linear = nn.Linear(latent_dim, self.inplanes * 4 * 4)\n",
        "\n",
        "        self.layer1 = self._make_layer(block, 256, layers[0], scale=2)\n",
        "        self.layer2 = self._make_layer(block, 128, layers[1], scale=2)\n",
        "        self.layer3 = self._make_layer(block, 64, layers[2], scale=2)\n",
        "\n",
        "        if self.maxpool1:\n",
        "            self.layer4 = self._make_layer(block, 64, layers[3], scale=2)\n",
        "            self.upscale_factor *= 2\n",
        "        else:\n",
        "            self.layer4 = self._make_layer(block, 64, layers[3])\n",
        "\n",
        "        if self.first_conv:\n",
        "            self.upscale = Interpolate(scale=2)\n",
        "            self.upscale_factor *= 2\n",
        "        else:\n",
        "            self.upscale = Interpolate(scale=1)\n",
        "\n",
        "        # interpolate after linear layer using scale factor\n",
        "        self.upscale1 = Interpolate(size=input_height // self.upscale_factor)\n",
        "\n",
        "        self.conv1 = nn.Conv2d(64 * block.expansion, 3, kernel_size=3, stride=1, padding=1, bias=False)\n",
        "\n",
        "    def _make_layer(self, block, planes, blocks, scale=1):\n",
        "        upsample = None\n",
        "        if scale != 1 or self.inplanes != planes * block.expansion:\n",
        "            upsample = nn.Sequential(\n",
        "                resize_conv(self.inplanes, planes * block.expansion, scale, k=1),\n",
        "                nn.BatchNorm2d(planes * block.expansion),\n",
        "            )\n",
        "\n",
        "        layers = []\n",
        "        layers.append(block(self.inplanes, planes, scale, upsample))\n",
        "        self.inplanes = planes * block.expansion\n",
        "        for _ in range(1, blocks):\n",
        "            layers.append(block(self.inplanes, planes))\n",
        "\n",
        "        return nn.Sequential(*layers)\n",
        "\n",
        "    def forward(self, x):\n",
        "        x = self.linear(x)\n",
        "\n",
        "        x = x.view(x.size(0), 512 * self.expansion, 4, 4)\n",
        "        x = self.upscale1(x)\n",
        "\n",
        "        x = self.layer1(x)\n",
        "        x = self.layer2(x)\n",
        "        x = self.layer3(x)\n",
        "        x = self.layer4(x)\n",
        "        x = self.upscale(x)\n",
        "\n",
        "        x = self.conv1(x)\n",
        "        return x\n"
      ],
      "execution_count": null,
      "outputs": []
    },
    {
      "cell_type": "code",
      "metadata": {
        "id": "oz_d7QCluFhQ"
      },
      "source": [
        "def resnet18_decoder(latent_dim, input_height, first_conv, maxpool1):\n",
        "    return ResNetDecoder(DecoderBlock, [2, 2, 2, 2], latent_dim, input_height, first_conv, maxpool1)"
      ],
      "execution_count": null,
      "outputs": []
    },
    {
      "cell_type": "code",
      "metadata": {
        "id": "zInySof2vWh_"
      },
      "source": [
        "#Test\n",
        "#b = resnet18_decoder(256,32,False,False)"
      ],
      "execution_count": null,
      "outputs": []
    },
    {
      "cell_type": "code",
      "metadata": {
        "id": "rY7ArEAVwHDI"
      },
      "source": [
        "class VAE(nn.Module):\n",
        "\n",
        "    def __init__(self, enc_out_dim=512, latent_dim=256, input_height=32):\n",
        "        super(VAE,self).__init__()\n",
        "\n",
        "        # encoder, decoder\n",
        "        self.encoder = resnet18_encoder(False, False)\n",
        "        self.decoder = resnet18_decoder(\n",
        "            latent_dim=latent_dim, \n",
        "            input_height=input_height, \n",
        "            first_conv=False, \n",
        "            maxpool1=False\n",
        "        )\n",
        "\n",
        "        # distribution parameters\n",
        "        self.fc_mu = nn.Linear(enc_out_dim, latent_dim)\n",
        "        self.fc_var = nn.Linear(enc_out_dim, latent_dim)\n",
        "\n",
        "        # for the gaussian likelihood\n",
        "        self.log_scale = nn.Parameter(torch.Tensor([0.0]))\n",
        "\n",
        "    def configure_optimizers(self):\n",
        "        return torch.optim.Adam(self.parameters(), lr=1e-4)\n",
        "\n",
        "    def gaussian_likelihood(self, mean, logscale, sample):\n",
        "        scale = torch.exp(logscale)\n",
        "        dist = torch.distributions.Normal(mean, scale)\n",
        "        log_pxz = dist.log_prob(sample)\n",
        "        return log_pxz.sum(dim=(1, 2, 3))\n",
        "\n",
        "    def kl_divergence(self, z, mu, std):\n",
        "        p = torch.distributions.Normal(torch.zeros_like(mu), torch.ones_like(std))\n",
        "        q = torch.distributions.Normal(mu, std)\n",
        "\n",
        "        # 2. get the probabilities from the equation\n",
        "        log_qzx = q.log_prob(z)\n",
        "        log_pz = p.log_prob(z)\n",
        "\n",
        "        # kl\n",
        "        kl = (log_qzx - log_pz)\n",
        "        kl = kl.sum(-1)\n",
        "        return kl\n",
        "\n",
        "    def training_step(self, batch, batch_idx):\n",
        "        x, _ = batch\n",
        "        # encode x to get the mu and variance parameters\n",
        "        x_encoded = self.encoder(x)\n",
        "        mu, log_var = self.fc_mu(x_encoded), self.fc_var(x_encoded)\n",
        "\n",
        "        # sample z from q\n",
        "        std = torch.exp(log_var / 2)\n",
        "        q = torch.distributions.Normal(mu, std)\n",
        "        z = q.rsample()\n",
        "\n",
        "        # decoded \n",
        "        x_hat = vae.decoder(z)\n",
        "\n",
        "        # reconstruction loss\n",
        "        recon_loss = self.gaussian_likelihood(x_hat, self.log_scale, x)\n",
        "\n",
        "        # kl\n",
        "        kl = self.kl_divergence(z, mu, std)\n",
        "\n",
        "        # elbo\n",
        "        elbo = (kl - recon_loss)\n",
        "        elbo = elbo.mean()\n",
        "\n",
        "        self.log_dict({\n",
        "            'elbo': elbo,\n",
        "            'kl': kl.mean(),\n",
        "            'recon_loss': recon_loss.mean(), \n",
        "            'reconstruction': recon_loss.mean(),\n",
        "            'kl': kl.mean(),\n",
        "        })\n",
        "\n",
        "        return elbo"
      ],
      "execution_count": null,
      "outputs": []
    },
    {
      "cell_type": "code",
      "metadata": {
        "colab": {
          "base_uri": "https://localhost:8080/"
        },
        "id": "xym8ediuOC3y",
        "outputId": "aed49976-0581-40a5-eda4-d90d487e9eae"
      },
      "source": [
        "trainloader = torch.utils.data.DataLoader(trainset, batch_size=128,\n",
        "                                            shuffle=True, num_workers=2)\n",
        "\n",
        "print(len(trainset))"
      ],
      "execution_count": null,
      "outputs": [
        {
          "output_type": "stream",
          "text": [
            "50000\n"
          ],
          "name": "stdout"
        }
      ]
    },
    {
      "cell_type": "code",
      "metadata": {
        "id": "0rBa-kXFOJiv"
      },
      "source": [
        "vae = VAE()"
      ],
      "execution_count": null,
      "outputs": []
    },
    {
      "cell_type": "code",
      "metadata": {
        "id": "61L2PNgGPhVo"
      },
      "source": [
        ""
      ],
      "execution_count": null,
      "outputs": []
    }
  ]
}