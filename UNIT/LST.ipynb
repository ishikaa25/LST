{
  "nbformat": 4,
  "nbformat_minor": 0,
  "metadata": {
    "colab": {
      "name": "LST.ipynb",
      "provenance": [],
      "authorship_tag": "ABX9TyPYBJrCfN21W1lWfyxkPQ4v",
      "include_colab_link": true
    },
    "kernelspec": {
      "name": "python3",
      "display_name": "Python 3"
    },
    "language_info": {
      "name": "python"
    }
  },
  "cells": [
    {
      "cell_type": "markdown",
      "metadata": {
        "id": "view-in-github",
        "colab_type": "text"
      },
      "source": [
        "<a href=\"https://colab.research.google.com/github/ishikaa25/LST/blob/master/UNIT/LST.ipynb\" target=\"_parent\"><img src=\"https://colab.research.google.com/assets/colab-badge.svg\" alt=\"Open In Colab\"/></a>"
      ]
    },
    {
      "cell_type": "markdown",
      "metadata": {
        "id": "L49aY97XFSq-"
      },
      "source": [
        "Reference: [VAE Encoder using TF](https://becominghuman.ai/using-variational-autoencoder-vae-to-generate-new-images-14328877e88d)\n",
        " \n",
        "Using this, I'll code Latent space embedder in PyTorch.\n"
      ]
    },
    {
      "cell_type": "code",
      "metadata": {
        "id": "vrn5woGPHQ2A"
      },
      "source": [
        "import torch\n",
        "import torchvision\n",
        "from torchvision import datasets, transforms\n",
        "import torch.nn as nn\n",
        "import torch.nn.functional as F"
      ],
      "execution_count": 7,
      "outputs": []
    },
    {
      "cell_type": "code",
      "metadata": {
        "id": "tJFdsUpULeJY"
      },
      "source": [
        "transform = transforms.Compose([transforms.ToTensor(),\n",
        "                              transforms.Normalize((0.5,), (0.5,)),\n",
        "                              ])\n",
        "trainset = datasets.MNIST('PATH_TO_STORE_TRAINSET', train=True, transform=transform)"
      ],
      "execution_count": 11,
      "outputs": []
    },
    {
      "cell_type": "code",
      "metadata": {
        "colab": {
          "base_uri": "https://localhost:8080/"
        },
        "id": "HxMpbF1bNl5y",
        "outputId": "91c50831-c8a4-4838-84cb-e4797fa0e76b"
      },
      "source": [
        "len(trainset)/1000"
      ],
      "execution_count": 16,
      "outputs": [
        {
          "output_type": "execute_result",
          "data": {
            "text/plain": [
              "60.0"
            ]
          },
          "metadata": {
            "tags": []
          },
          "execution_count": 16
        }
      ]
    },
    {
      "cell_type": "code",
      "metadata": {
        "colab": {
          "base_uri": "https://localhost:8080/"
        },
        "id": "lGy7GrYGPu8Y",
        "outputId": "bf859c5a-7be9-4d0a-ddfc-7724f2e41c56"
      },
      "source": [
        "sub = list(range(0, len(trainset)/1000))\n",
        "trainset_sub = torch.utils.data.Subset(trainset, sub)\n",
        "\n",
        "\n",
        "trainloader_1 = torch.utils.data.DataLoader(trainset_1, batch_size=4,\n",
        "                                            shuffle=True, num_workers=2)\n",
        "trainloader_2 = torch.utils.data.DataLoader(trainset_2, batch_size=4,\n",
        "                                            shuffle=True, num_workers=2)"
      ],
      "execution_count": 13,
      "outputs": [
        {
          "output_type": "stream",
          "text": [
            "torch.Size([64, 1, 28, 28])\n",
            "torch.Size([64])\n"
          ],
          "name": "stdout"
        }
      ]
    },
    {
      "cell_type": "code",
      "metadata": {
        "id": "j6giMxwQP6n_"
      },
      "source": [
        ""
      ],
      "execution_count": null,
      "outputs": []
    }
  ]
}